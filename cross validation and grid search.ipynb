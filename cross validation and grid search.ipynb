{
 "cells": [
  {
   "cell_type": "markdown",
   "id": "72eb6862",
   "metadata": {
    "pycharm": {
     "name": "#%% md\n"
    }
   },
   "source": [
    "## 1. The Dataset for Classification Problem"
   ]
  },
  {
   "cell_type": "code",
   "execution_count": 1,
   "id": "35ccec1c",
   "metadata": {
    "pycharm": {
     "name": "#%%\n"
    }
   },
   "outputs": [],
   "source": [
    "# import all the important basic packages\n",
    "\n",
    "import pandas as pd\n",
    "import numpy as np\n",
    "import matplotlib.pyplot as plt\n",
    "import seaborn as sns\n",
    "from sklearn.model_selection import train_test_split\n",
    "from sklearn.model_selection import GridSearchCV\n",
    "from sklearn.metrics import accuracy_score\n",
    "from joblib import Parallel"
   ]
  },
  {
   "cell_type": "code",
   "execution_count": 2,
   "id": "bf72ad25",
   "metadata": {
    "pycharm": {
     "name": "#%%\n"
    }
   },
   "outputs": [],
   "source": [
    "# import data\n",
    "\n",
    "rice_df = pd.read_excel('./Rice_Cammeo_Osmancik.xlsx', engine='openpyxl')"
   ]
  },
  {
   "cell_type": "markdown",
   "id": "778b6962",
   "metadata": {
    "pycharm": {
     "name": "#%% md\n"
    }
   },
   "source": [
    "Die Beschreibung des Datensatzes lautet wie folgt:"
   ]
  },
  {
   "cell_type": "code",
   "execution_count": 3,
   "id": "3bb8a708",
   "metadata": {
    "pycharm": {
     "name": "#%%\n"
    }
   },
   "outputs": [
    {
     "name": "stdout",
     "output_type": "stream",
     "text": [
      "<class 'pandas.core.frame.DataFrame'>\n",
      "RangeIndex: 3810 entries, 0 to 3809\n",
      "Data columns (total 8 columns):\n",
      " #   Column             Non-Null Count  Dtype  \n",
      "---  ------             --------------  -----  \n",
      " 0   Area               3810 non-null   int64  \n",
      " 1   Perimeter          3810 non-null   float64\n",
      " 2   Major_Axis_Length  3810 non-null   float64\n",
      " 3   Minor_Axis_Length  3810 non-null   float64\n",
      " 4   Eccentricity       3810 non-null   float64\n",
      " 5   Convex_Area        3810 non-null   int64  \n",
      " 6   Extent             3810 non-null   float64\n",
      " 7   Class              3810 non-null   object \n",
      "dtypes: float64(5), int64(2), object(1)\n",
      "memory usage: 238.2+ KB\n"
     ]
    }
   ],
   "source": [
    "rice_df.info()"
   ]
  },
  {
   "cell_type": "code",
   "execution_count": 4,
   "id": "7059af94",
   "metadata": {
    "pycharm": {
     "name": "#%%\n"
    }
   },
   "outputs": [
    {
     "data": {
      "text/html": [
       "<div>\n",
       "<style scoped>\n",
       "    .dataframe tbody tr th:only-of-type {\n",
       "        vertical-align: middle;\n",
       "    }\n",
       "\n",
       "    .dataframe tbody tr th {\n",
       "        vertical-align: top;\n",
       "    }\n",
       "\n",
       "    .dataframe thead th {\n",
       "        text-align: right;\n",
       "    }\n",
       "</style>\n",
       "<table border=\"1\" class=\"dataframe\">\n",
       "  <thead>\n",
       "    <tr style=\"text-align: right;\">\n",
       "      <th></th>\n",
       "      <th>Area</th>\n",
       "      <th>Perimeter</th>\n",
       "      <th>Major_Axis_Length</th>\n",
       "      <th>Minor_Axis_Length</th>\n",
       "      <th>Eccentricity</th>\n",
       "      <th>Convex_Area</th>\n",
       "      <th>Extent</th>\n",
       "      <th>Class</th>\n",
       "    </tr>\n",
       "  </thead>\n",
       "  <tbody>\n",
       "    <tr>\n",
       "      <th>0</th>\n",
       "      <td>15231</td>\n",
       "      <td>525.578979</td>\n",
       "      <td>229.749878</td>\n",
       "      <td>85.093788</td>\n",
       "      <td>0.928882</td>\n",
       "      <td>15617</td>\n",
       "      <td>0.572896</td>\n",
       "      <td>Cammeo</td>\n",
       "    </tr>\n",
       "    <tr>\n",
       "      <th>1</th>\n",
       "      <td>14656</td>\n",
       "      <td>494.311005</td>\n",
       "      <td>206.020065</td>\n",
       "      <td>91.730972</td>\n",
       "      <td>0.895405</td>\n",
       "      <td>15072</td>\n",
       "      <td>0.615436</td>\n",
       "      <td>Cammeo</td>\n",
       "    </tr>\n",
       "    <tr>\n",
       "      <th>2</th>\n",
       "      <td>14634</td>\n",
       "      <td>501.122009</td>\n",
       "      <td>214.106781</td>\n",
       "      <td>87.768288</td>\n",
       "      <td>0.912118</td>\n",
       "      <td>14954</td>\n",
       "      <td>0.693259</td>\n",
       "      <td>Cammeo</td>\n",
       "    </tr>\n",
       "  </tbody>\n",
       "</table>\n",
       "</div>"
      ],
      "text/plain": [
       "    Area   Perimeter  Major_Axis_Length  Minor_Axis_Length  Eccentricity  \\\n",
       "0  15231  525.578979         229.749878          85.093788      0.928882   \n",
       "1  14656  494.311005         206.020065          91.730972      0.895405   \n",
       "2  14634  501.122009         214.106781          87.768288      0.912118   \n",
       "\n",
       "   Convex_Area    Extent   Class  \n",
       "0        15617  0.572896  Cammeo  \n",
       "1        15072  0.615436  Cammeo  \n",
       "2        14954  0.693259  Cammeo  "
      ]
     },
     "execution_count": 4,
     "metadata": {},
     "output_type": "execute_result"
    }
   ],
   "source": [
    "rice_df.head(3)"
   ]
  },
  {
   "cell_type": "markdown",
   "id": "b1821d64",
   "metadata": {
    "pycharm": {
     "name": "#%% md\n"
    }
   },
   "source": [
    "## 2. Among different algorithms and hyperparameters to find the \"best\" model"
   ]
  },
  {
   "cell_type": "code",
   "execution_count": 5,
   "id": "d8501643",
   "metadata": {
    "pycharm": {
     "name": "#%%\n"
    }
   },
   "outputs": [],
   "source": [
    "# orignial Daten preprocessing\n",
    "# Training Set and Testing Set spliting\n",
    "\n",
    "X, y = rice_df.drop(columns = 'Class'), rice_df['Class']\n",
    "X_train, X_test, y_train, y_test = train_test_split(X, y, test_size = 0.2, random_state=0)"
   ]
  },
  {
   "cell_type": "markdown",
   "id": "6edb4295",
   "metadata": {
    "pycharm": {
     "name": "#%% md\n"
    }
   },
   "source": [
    "### (a) Model 1: Logistic Regression"
   ]
  },
  {
   "cell_type": "code",
   "execution_count": 6,
   "id": "792f167d",
   "metadata": {
    "pycharm": {
     "name": "#%%\n"
    }
   },
   "outputs": [
    {
     "data": {
      "text/plain": [
       "0.937007874015748"
      ]
     },
     "execution_count": 6,
     "metadata": {},
     "output_type": "execute_result"
    }
   ],
   "source": [
    "from sklearn.linear_model import LogisticRegression\n",
    "\n",
    "LogistReg_clf = LogisticRegression().fit(X_train, y_train)\n",
    "LogistReg_clf.score(X_test, y_test)"
   ]
  },
  {
   "cell_type": "markdown",
   "id": "7d980709",
   "metadata": {
    "pycharm": {
     "name": "#%% md\n"
    }
   },
   "source": [
    "#### Adjusting the Hyperparameters with Grid Sreach"
   ]
  },
  {
   "cell_type": "code",
   "execution_count": 7,
   "id": "296e2e8b",
   "metadata": {
    "pycharm": {
     "name": "#%%\n"
    }
   },
   "outputs": [
    {
     "name": "stdout",
     "output_type": "stream",
     "text": [
      "Best Estimator is: LogisticRegression(C=1, random_state=1)\n",
      "Best score on train dataset is: 0.9284729064039409\n",
      "The score on test dataset is: 0.937007874015748\n"
     ]
    }
   ],
   "source": [
    "gridsearch_LogistReg = GridSearchCV(estimator = LogisticRegression(), param_grid = \n",
    "                                    {'C': [1, 5], 'random_state': [1, 5]}).fit(X_train, y_train)\n",
    "\n",
    "print(\"Best Estimator is: {}\".format(gridsearch_LogistReg.best_estimator_))\n",
    "print(\"Best score on train dataset is: {}\".format(gridsearch_LogistReg.best_score_))\n",
    "print(\"The score on test dataset is: {}\".format(gridsearch_LogistReg.score(X_test, y_test)))"
   ]
  },
  {
   "cell_type": "markdown",
   "id": "fdc864e6",
   "metadata": {
    "pycharm": {
     "name": "#%% md\n"
    }
   },
   "source": [
    "### (b) Model 2: Ridge Classifier"
   ]
  },
  {
   "cell_type": "code",
   "execution_count": 8,
   "id": "47737ca1",
   "metadata": {
    "pycharm": {
     "name": "#%%\n"
    }
   },
   "outputs": [
    {
     "data": {
      "text/plain": [
       "0.9409448818897638"
      ]
     },
     "execution_count": 8,
     "metadata": {},
     "output_type": "execute_result"
    }
   ],
   "source": [
    "from sklearn.linear_model import RidgeClassifier\n",
    "\n",
    "Ridge_clf = RidgeClassifier().fit(X_train, y_train)\n",
    "Ridge_clf.score(X_test, y_test)"
   ]
  },
  {
   "cell_type": "markdown",
   "id": "9bdb669f",
   "metadata": {
    "pycharm": {
     "name": "#%% md\n"
    }
   },
   "source": [
    "#### Adjusting the Hyperparameters with Grid Sreach"
   ]
  },
  {
   "cell_type": "code",
   "execution_count": 9,
   "id": "ba19d01c",
   "metadata": {
    "pycharm": {
     "name": "#%%\n"
    }
   },
   "outputs": [
    {
     "name": "stdout",
     "output_type": "stream",
     "text": [
      "Best Estimator is: LogisticRegression(C=1, random_state=1)\n",
      "Best score on train dataset is: 0.9284729064039409\n",
      "The score on test dataset is: 0.937007874015748\n"
     ]
    }
   ],
   "source": [
    "gridsearch_Ridge = GridSearchCV(estimator = RidgeClassifier(), \n",
    "                                param_grid = {'alpha': [1, 5], 'random_state': [1, 5]}).fit(X_train, y_train)\n",
    "\n",
    "print(\"Best Estimator is: {}\".format(gridsearch_LogistReg.best_estimator_))\n",
    "print(\"Best score on train dataset is: {}\".format(gridsearch_LogistReg.best_score_))\n",
    "print(\"The score on test dataset is: {}\".format(gridsearch_LogistReg.score(X_test, y_test)))"
   ]
  },
  {
   "cell_type": "markdown",
   "id": "7ab82176",
   "metadata": {
    "pycharm": {
     "name": "#%% md\n"
    }
   },
   "source": [
    "### (c) Model 3: Use gradient descent to improve (rule update)"
   ]
  },
  {
   "cell_type": "code",
   "execution_count": 10,
   "id": "9d38906a",
   "metadata": {
    "pycharm": {
     "name": "#%%\n"
    }
   },
   "outputs": [
    {
     "data": {
      "text/plain": [
       "0.4868766404199475"
      ]
     },
     "execution_count": 10,
     "metadata": {},
     "output_type": "execute_result"
    }
   ],
   "source": [
    "from sklearn.linear_model import SGDClassifier\n",
    "\n",
    "SGD_clf = SGDClassifier().fit(X_train, y_train)\n",
    "SGD_clf.score(X_test, y_test)"
   ]
  },
  {
   "cell_type": "markdown",
   "id": "5867b793",
   "metadata": {
    "pycharm": {
     "name": "#%% md\n"
    }
   },
   "source": [
    "#### Adjusting the Hyperparameters with Grid Sreach"
   ]
  },
  {
   "cell_type": "code",
   "execution_count": 11,
   "id": "1aafda77",
   "metadata": {
    "pycharm": {
     "name": "#%%\n"
    }
   },
   "outputs": [
    {
     "name": "stdout",
     "output_type": "stream",
     "text": [
      "Best Estimator is: SGDClassifier(alpha=1, early_stopping=True, max_iter=100, random_state=1)\n",
      "Best score on train dataset is: 0.4849180327868853\n",
      "The score on test dataset is: 0.5577427821522309\n"
     ]
    }
   ],
   "source": [
    "gridsearch_SGD = GridSearchCV(estimator = SGDClassifier(), \n",
    "                              param_grid = {'alpha': [1, 10], \n",
    "                                            'max_iter': [100, 10000], \n",
    "                                            'early_stopping': [True], \n",
    "                                            'random_state': [1, 10]}).fit(X_train, y_train)\n",
    "\n",
    "print(\"Best Estimator is: {}\".format(gridsearch_SGD.best_estimator_))\n",
    "print(\"Best score on train dataset is: {}\".format(gridsearch_SGD.best_score_))\n",
    "print(\"The score on test dataset is: {}\".format(gridsearch_SGD.score(X_test, y_test)))"
   ]
  },
  {
   "cell_type": "markdown",
   "id": "2dbfa4c4",
   "metadata": {
    "pycharm": {
     "name": "#%% md\n"
    }
   },
   "source": [
    "### (d) Model 4: Support Vector Machines, SVM"
   ]
  },
  {
   "cell_type": "markdown",
   "id": "5b2e03a9",
   "metadata": {
    "pycharm": {
     "name": "#%% md\n"
    }
   },
   "source": [
    "Hard SVM"
   ]
  },
  {
   "cell_type": "code",
   "execution_count": 12,
   "id": "49d09286",
   "metadata": {
    "pycharm": {
     "name": "#%%\n"
    }
   },
   "outputs": [
    {
     "data": {
      "text/plain": [
       "0.884514435695538"
      ]
     },
     "execution_count": 12,
     "metadata": {},
     "output_type": "execute_result"
    }
   ],
   "source": [
    "from sklearn import svm\n",
    "\n",
    "svm_clf = svm.SVC().fit(X_train, y_train)\n",
    "svm_clf.score(X_test, y_test)"
   ]
  },
  {
   "cell_type": "markdown",
   "id": "08eb7e68",
   "metadata": {
    "pycharm": {
     "name": "#%% md\n"
    }
   },
   "source": [
    "Soft SVM"
   ]
  },
  {
   "cell_type": "code",
   "execution_count": 13,
   "id": "a0c3fe19",
   "metadata": {
    "pycharm": {
     "name": "#%%\n"
    }
   },
   "outputs": [
    {
     "data": {
      "text/plain": [
       "0.884514435695538"
      ]
     },
     "execution_count": 13,
     "metadata": {},
     "output_type": "execute_result"
    }
   ],
   "source": [
    "svm_rbf_clf = svm.SVC(kernel = 'rbf', probability = True).fit(X_train, y_train)\n",
    "svm_rbf_clf.score(X_test, y_test)"
   ]
  },
  {
   "cell_type": "markdown",
   "id": "319c1231",
   "metadata": {
    "pycharm": {
     "name": "#%% md\n"
    }
   },
   "source": [
    "#### Adjusting the Hyperparameters with Grid Sreach"
   ]
  },
  {
   "cell_type": "code",
   "execution_count": 14,
   "id": "2c233a4f",
   "metadata": {
    "pycharm": {
     "name": "#%%\n"
    }
   },
   "outputs": [
    {
     "name": "stdout",
     "output_type": "stream",
     "text": [
      "Best Estimator is: SVC(C=10, degree=1, kernel='linear')\n",
      "Best score on train dataset is: 0.9297881504212764\n",
      "The score on test dataset is: 0.9356955380577427\n"
     ]
    }
   ],
   "source": [
    "gridsearch_svm = GridSearchCV(\n",
    "    estimator = svm.SVC(), param_grid = {'C': [1, 10], \n",
    "                                         'kernel': ('linear', 'rbf', 'poly', 'sigmoid'), \n",
    "                                         'degree': [1, 5]}).fit(X_train, y_train)\n",
    "\n",
    "print(\"Best Estimator is: {}\".format(gridsearch_svm.best_estimator_))\n",
    "print(\"Best score on train dataset is: {}\".format(gridsearch_svm.best_score_))\n",
    "print(\"The score on test dataset is: {}\".format(gridsearch_svm.score(X_test, y_test)))"
   ]
  },
  {
   "cell_type": "code",
   "execution_count": 15,
   "id": "b3dfb2bd",
   "metadata": {
    "pycharm": {
     "name": "#%%\n"
    }
   },
   "outputs": [
    {
     "data": {
      "text/plain": [
       "{'mean_fit_time': array([1.80770555, 0.09990973, 0.07100978, 0.25352836, 1.74630618,\n",
       "        0.09426556, 0.07385483, 0.25774684, 1.39864469, 0.09673543,\n",
       "        0.06690059, 0.07512703, 1.32924628, 0.09497361, 0.0968574 ,\n",
       "        0.07547626]),\n",
       " 'std_fit_time': array([0.66995452, 0.00123124, 0.00086972, 0.02737231, 0.66034121,\n",
       "        0.00134501, 0.00175246, 0.03099525, 0.45474105, 0.00206743,\n",
       "        0.00238682, 0.06449244, 0.37553435, 0.00248249, 0.00597887,\n",
       "        0.0651999 ]),\n",
       " 'mean_score_time': array([0.00689025, 0.0609745 , 0.01497426, 0.04482341, 0.00653152,\n",
       "        0.05458593, 0.01383061, 0.04502611, 0.00712004, 0.05134034,\n",
       "        0.01362872, 0.01815338, 0.00653977, 0.05223083, 0.01407681,\n",
       "        0.01830611]),\n",
       " 'std_score_time': array([0.00039126, 0.00803554, 0.00048002, 0.0003478 , 0.00018064,\n",
       "        0.00151948, 0.00055785, 0.0003591 , 0.00093219, 0.00133719,\n",
       "        0.00077876, 0.01386252, 0.00011601, 0.00102545, 0.00028875,\n",
       "        0.01421121]),\n",
       " 'param_C': masked_array(data=[1, 1, 1, 1, 1, 1, 1, 1, 10, 10, 10, 10, 10, 10, 10, 10],\n",
       "              mask=[False, False, False, False, False, False, False, False,\n",
       "                    False, False, False, False, False, False, False, False],\n",
       "        fill_value='?',\n",
       "             dtype=object),\n",
       " 'param_degree': masked_array(data=[1, 1, 1, 1, 5, 5, 5, 5, 1, 1, 1, 1, 5, 5, 5, 5],\n",
       "              mask=[False, False, False, False, False, False, False, False,\n",
       "                    False, False, False, False, False, False, False, False],\n",
       "        fill_value='?',\n",
       "             dtype=object),\n",
       " 'param_kernel': masked_array(data=['linear', 'rbf', 'poly', 'sigmoid', 'linear', 'rbf',\n",
       "                    'poly', 'sigmoid', 'linear', 'rbf', 'poly', 'sigmoid',\n",
       "                    'linear', 'rbf', 'poly', 'sigmoid'],\n",
       "              mask=[False, False, False, False, False, False, False, False,\n",
       "                    False, False, False, False, False, False, False, False],\n",
       "        fill_value='?',\n",
       "             dtype=object),\n",
       " 'params': [{'C': 1, 'degree': 1, 'kernel': 'linear'},\n",
       "  {'C': 1, 'degree': 1, 'kernel': 'rbf'},\n",
       "  {'C': 1, 'degree': 1, 'kernel': 'poly'},\n",
       "  {'C': 1, 'degree': 1, 'kernel': 'sigmoid'},\n",
       "  {'C': 1, 'degree': 5, 'kernel': 'linear'},\n",
       "  {'C': 1, 'degree': 5, 'kernel': 'rbf'},\n",
       "  {'C': 1, 'degree': 5, 'kernel': 'poly'},\n",
       "  {'C': 1, 'degree': 5, 'kernel': 'sigmoid'},\n",
       "  {'C': 10, 'degree': 1, 'kernel': 'linear'},\n",
       "  {'C': 10, 'degree': 1, 'kernel': 'rbf'},\n",
       "  {'C': 10, 'degree': 1, 'kernel': 'poly'},\n",
       "  {'C': 10, 'degree': 1, 'kernel': 'sigmoid'},\n",
       "  {'C': 10, 'degree': 5, 'kernel': 'linear'},\n",
       "  {'C': 10, 'degree': 5, 'kernel': 'rbf'},\n",
       "  {'C': 10, 'degree': 5, 'kernel': 'poly'},\n",
       "  {'C': 10, 'degree': 5, 'kernel': 'sigmoid'}],\n",
       " 'split0_test_score': array([0.91803279, 0.87868852, 0.88032787, 0.21803279, 0.91803279,\n",
       "        0.87868852, 0.88032787, 0.21803279, 0.92295082, 0.88032787,\n",
       "        0.87868852, 0.87868852, 0.92295082, 0.88032787, 0.88196721,\n",
       "        0.87868852]),\n",
       " 'split1_test_score': array([0.93278689, 0.8852459 , 0.8852459 , 0.19344262, 0.93278689,\n",
       "        0.8852459 , 0.88688525, 0.19344262, 0.93442623, 0.8852459 ,\n",
       "        0.8852459 , 0.87868852, 0.93442623, 0.8852459 , 0.89508197,\n",
       "        0.87868852]),\n",
       " 'split2_test_score': array([0.93770492, 0.89508197, 0.89508197, 0.22459016, 0.93770492,\n",
       "        0.89508197, 0.90327869, 0.22459016, 0.93770492, 0.9       ,\n",
       "        0.89508197, 0.89344262, 0.93770492, 0.9       , 0.90491803,\n",
       "        0.89344262]),\n",
       " 'split3_test_score': array([0.92775041, 0.85878489, 0.86042693, 0.21510673, 0.92775041,\n",
       "        0.85878489, 0.86042693, 0.21510673, 0.92775041, 0.86042693,\n",
       "        0.85878489, 0.85878489, 0.92775041, 0.86042693, 0.86535304,\n",
       "        0.85878489]),\n",
       " 'split4_test_score': array([0.9228243 , 0.8817734 , 0.8817734 , 0.22495895, 0.9228243 ,\n",
       "        0.8817734 , 0.88505747, 0.22495895, 0.92610837, 0.88505747,\n",
       "        0.88341544, 0.21182266, 0.92610837, 0.88505747, 0.8817734 ,\n",
       "        0.21182266]),\n",
       " 'mean_test_score': array([0.92781986, 0.87991494, 0.88057121, 0.21522625, 0.92781986,\n",
       "        0.87991494, 0.88319524, 0.21522625, 0.92978815, 0.88221163,\n",
       "        0.88024334, 0.74428545, 0.92978815, 0.88221163, 0.88581873,\n",
       "        0.74428545]),\n",
       " 'std_test_score': array([0.00697328, 0.01191549, 0.01131116, 0.01153105, 0.00697328,\n",
       "        0.01191549, 0.01376261, 0.01153105, 0.00545214, 0.01274248,\n",
       "        0.01198462, 0.26645937, 0.00545214, 0.01274248, 0.01342114,\n",
       "        0.26645937]),\n",
       " 'rank_test_score': array([ 3, 11,  9, 15,  3, 11,  6, 15,  1,  7, 10, 13,  1,  7,  5, 13],\n",
       "       dtype=int32)}"
      ]
     },
     "execution_count": 15,
     "metadata": {},
     "output_type": "execute_result"
    }
   ],
   "source": [
    "gridsearch_svm.cv_results_"
   ]
  },
  {
   "cell_type": "markdown",
   "id": "9fb633ee",
   "metadata": {
    "pycharm": {
     "name": "#%% md\n"
    }
   },
   "source": [
    "### (e) Model 5: k-Nearest Neighbor"
   ]
  },
  {
   "cell_type": "code",
   "execution_count": 16,
   "id": "d5161183",
   "metadata": {
    "pycharm": {
     "name": "#%%\n"
    }
   },
   "outputs": [
    {
     "data": {
      "text/plain": [
       "0.889763779527559"
      ]
     },
     "execution_count": 16,
     "metadata": {},
     "output_type": "execute_result"
    }
   ],
   "source": [
    "from sklearn.neighbors import KNeighborsClassifier\n",
    "\n",
    "neigh_clf = KNeighborsClassifier().fit(X_train, y_train)\n",
    "neigh_clf.score(X_test, y_test)"
   ]
  },
  {
   "cell_type": "markdown",
   "id": "d79b271d",
   "metadata": {
    "pycharm": {
     "name": "#%% md\n"
    }
   },
   "source": [
    "#### Adjusting the Hyperparameters with Grid Sreach"
   ]
  },
  {
   "cell_type": "code",
   "execution_count": 17,
   "id": "4c269b6c",
   "metadata": {
    "pycharm": {
     "name": "#%%\n"
    }
   },
   "outputs": [
    {
     "name": "stdout",
     "output_type": "stream",
     "text": [
      "Best Estimator is: KNeighborsClassifier(leaf_size=1, n_neighbors=10)\n",
      "Best score on train dataset is: 0.880903927427387\n",
      "The score on test dataset is: 0.889763779527559\n"
     ]
    }
   ],
   "source": [
    "gridsearch_neigh = GridSearchCV(estimator = KNeighborsClassifier(), \n",
    "                                param_grid = {'n_neighbors': [1, 10], \n",
    "                                              'algorithm': ('auto', 'ball_tree', 'kd_tree', 'brute'), \n",
    "                                              'leaf_size': [1, 50]}).fit(X_train, y_train)\n",
    "\n",
    "print(\"Best Estimator is: {}\".format(gridsearch_neigh.best_estimator_))\n",
    "print(\"Best score on train dataset is: {}\".format(gridsearch_neigh.best_score_))\n",
    "print(\"The score on test dataset is: {}\".format(gridsearch_neigh.score(X_test, y_test)))"
   ]
  },
  {
   "cell_type": "markdown",
   "id": "15767912",
   "metadata": {
    "pycharm": {
     "name": "#%% md\n"
    }
   },
   "source": [
    "### (f) Model 6: Decision Tree"
   ]
  },
  {
   "cell_type": "code",
   "execution_count": 18,
   "id": "69f88e8e",
   "metadata": {
    "pycharm": {
     "name": "#%%\n"
    }
   },
   "outputs": [
    {
     "data": {
      "text/plain": [
       "0.916010498687664"
      ]
     },
     "execution_count": 18,
     "metadata": {},
     "output_type": "execute_result"
    }
   ],
   "source": [
    "from sklearn import tree\n",
    "\n",
    "DT_clf = tree.DecisionTreeClassifier().fit(X_train, y_train)\n",
    "DT_clf.score(X_test, y_test)"
   ]
  },
  {
   "cell_type": "markdown",
   "id": "39800570",
   "metadata": {
    "pycharm": {
     "name": "#%% md\n"
    }
   },
   "source": [
    "#### Adjusting the Hyperparameters with Grid Sreach"
   ]
  },
  {
   "cell_type": "code",
   "execution_count": 19,
   "id": "faaf3368",
   "metadata": {
    "pycharm": {
     "name": "#%%\n"
    }
   },
   "outputs": [
    {
     "name": "stdout",
     "output_type": "stream",
     "text": [
      "Best Estimator is: DecisionTreeClassifier(criterion='entropy', max_depth=1)\n",
      "Best score on train dataset is: 0.9258515707017686\n",
      "The score on test dataset is: 0.9304461942257218\n"
     ]
    }
   ],
   "source": [
    "gridsearch_DT = GridSearchCV(\n",
    "    estimator = tree.DecisionTreeClassifier(), \n",
    "    param_grid = {'criterion': ('gini', 'entropy'), \n",
    "                  'splitter': ('best', 'random'), \n",
    "                  'max_depth': [1, 50], \n",
    "                  'min_samples_leaf': [1, 10]}).fit(X_train, y_train)\n",
    "\n",
    "print(\"Best Estimator is: {}\".format(gridsearch_DT.best_estimator_))\n",
    "print(\"Best score on train dataset is: {}\".format(gridsearch_DT.best_score_))\n",
    "print(\"The score on test dataset is: {}\".format(gridsearch_DT.score(X_test, y_test)))"
   ]
  },
  {
   "cell_type": "markdown",
   "id": "d65313b7",
   "metadata": {
    "pycharm": {
     "name": "#%% md\n"
    }
   },
   "source": [
    "### (g) Bayesian Classification"
   ]
  },
  {
   "cell_type": "markdown",
   "id": "6a28bebb",
   "metadata": {
    "pycharm": {
     "name": "#%% md\n"
    }
   },
   "source": [
    "#### Model 7 Naive Bayes classifier for Multivariate Bernoulli Models"
   ]
  },
  {
   "cell_type": "code",
   "execution_count": 20,
   "id": "d4bfbcb0",
   "metadata": {
    "pycharm": {
     "name": "#%%\n"
    }
   },
   "outputs": [
    {
     "data": {
      "text/plain": [
       "0.5577427821522309"
      ]
     },
     "execution_count": 20,
     "metadata": {},
     "output_type": "execute_result"
    }
   ],
   "source": [
    "from sklearn.naive_bayes import BernoulliNB\n",
    "\n",
    "Bernoulli_clf = BernoulliNB().fit(X_train, y_train)\n",
    "Bernoulli_clf.score(X_test, y_test)"
   ]
  },
  {
   "cell_type": "code",
   "execution_count": 21,
   "id": "4261ac54",
   "metadata": {
    "pycharm": {
     "name": "#%%\n"
    }
   },
   "outputs": [
    {
     "name": "stdout",
     "output_type": "stream",
     "text": [
      "Best Estimator is: BernoulliNB(alpha=1, fit_prior=False)\n",
      "Best score on train dataset is: 0.5757877735605265\n",
      "The score on test dataset is: 0.5577427821522309\n"
     ]
    }
   ],
   "source": [
    "gridsearch_Bernoulli = GridSearchCV(estimator = BernoulliNB(), \n",
    "                                    param_grid = {'alpha': [1, 2], 'fit_prior': [False]}).fit(X_train, y_train)\n",
    "\n",
    "print(\"Best Estimator is: {}\".format(gridsearch_Bernoulli.best_estimator_))\n",
    "print(\"Best score on train dataset is: {}\".format(gridsearch_Bernoulli.best_score_))\n",
    "print(\"The score on test dataset is: {}\".format(gridsearch_Bernoulli.score(X_test, y_test)))"
   ]
  },
  {
   "cell_type": "markdown",
   "id": "b29e2c4e",
   "metadata": {
    "pycharm": {
     "name": "#%% md\n"
    }
   },
   "source": [
    "#### Model 8 Naive Bayes Classifier for Categorical Features"
   ]
  },
  {
   "cell_type": "code",
   "execution_count": 22,
   "id": "2008a198",
   "metadata": {
    "pycharm": {
     "name": "#%%\n"
    }
   },
   "outputs": [
    {
     "data": {
      "text/plain": [
       "0.5577427821522309"
      ]
     },
     "execution_count": 22,
     "metadata": {},
     "output_type": "execute_result"
    }
   ],
   "source": [
    "from sklearn.preprocessing import OrdinalEncoder\n",
    "from sklearn.naive_bayes import CategoricalNB\n",
    "\n",
    "enc = OrdinalEncoder()\n",
    "\n",
    "x_train = enc.fit(X_train).fit_transform(X_train)\n",
    "x_test = enc.fit(X_test).fit_transform(X_test)\n",
    "\n",
    "Categ_clf = CategoricalNB().fit(x_train, y_train)\n",
    "Categ_clf.score(x_test, y_test)"
   ]
  },
  {
   "cell_type": "markdown",
   "id": "5f3c08fe",
   "metadata": {
    "pycharm": {
     "name": "#%% md\n"
    }
   },
   "source": [
    "#### Model 9 Gaussian Naive Bayes Algorithm for Classification"
   ]
  },
  {
   "cell_type": "code",
   "execution_count": 23,
   "id": "aeacd5f5",
   "metadata": {
    "pycharm": {
     "name": "#%%\n"
    }
   },
   "outputs": [
    {
     "data": {
      "text/plain": [
       "0.9186351706036745"
      ]
     },
     "execution_count": 23,
     "metadata": {},
     "output_type": "execute_result"
    }
   ],
   "source": [
    "from sklearn.naive_bayes import GaussianNB\n",
    "\n",
    "Gaussian_clf = GaussianNB().fit(X_train, y_train)\n",
    "Gaussian_clf.score(X_test, y_test)"
   ]
  },
  {
   "cell_type": "code",
   "execution_count": 24,
   "id": "ebd89ad5",
   "metadata": {
    "pycharm": {
     "name": "#%%\n"
    }
   },
   "outputs": [
    {
     "name": "stdout",
     "output_type": "stream",
     "text": [
      "Best Estimator is: GaussianNB(var_smoothing=0)\n",
      "Best score on train dataset is: 0.9160101214029988\n",
      "The score on test dataset is: 0.926509186351706\n"
     ]
    }
   ],
   "source": [
    "gridsearch_Gaussian = GridSearchCV(estimator = GaussianNB(), \n",
    "                                   param_grid = {'var_smoothing': [0, 1]}).fit(X_train, y_train)\n",
    "\n",
    "print(\"Best Estimator is: {}\".format(gridsearch_Gaussian.best_estimator_))\n",
    "print(\"Best score on train dataset is: {}\".format(gridsearch_Gaussian.best_score_))\n",
    "print(\"The score on test dataset is: {}\".format(gridsearch_Gaussian.score(X_test, y_test)))"
   ]
  },
  {
   "cell_type": "markdown",
   "id": "8e31a22e",
   "metadata": {
    "pycharm": {
     "name": "#%% md\n"
    }
   },
   "source": [
    "#### Model 10 Naive Bayes Classifier for Multinomial Models"
   ]
  },
  {
   "cell_type": "code",
   "execution_count": 25,
   "id": "62d9b556",
   "metadata": {
    "pycharm": {
     "name": "#%%\n"
    }
   },
   "outputs": [
    {
     "data": {
      "text/plain": [
       "0.8517060367454068"
      ]
     },
     "execution_count": 25,
     "metadata": {},
     "output_type": "execute_result"
    }
   ],
   "source": [
    "from sklearn.naive_bayes import MultinomialNB\n",
    "\n",
    "Multi_Gaussian_clf = MultinomialNB().fit(X_train, y_train)\n",
    "Multi_Gaussian_clf.score(X_test, y_test)"
   ]
  },
  {
   "cell_type": "code",
   "execution_count": 26,
   "id": "a67a3ce8",
   "metadata": {
    "pycharm": {
     "name": "#%%\n"
    }
   },
   "outputs": [
    {
     "name": "stdout",
     "output_type": "stream",
     "text": [
      "Best Estimator is: MultinomialNB(alpha=0.001)\n",
      "Best score on train dataset is: 0.8539944547632506\n",
      "The score on test dataset is: 0.8517060367454068\n"
     ]
    }
   ],
   "source": [
    "gridsearch_Multi_Gaussian = GridSearchCV(estimator = MultinomialNB(), \n",
    "                                         param_grid = {'alpha': [0.001, 2]}).fit(X_train, y_train)\n",
    "\n",
    "print(\"Best Estimator is: {}\".format(gridsearch_Multi_Gaussian.best_estimator_))\n",
    "print(\"Best score on train dataset is: {}\".format(gridsearch_Multi_Gaussian.best_score_))\n",
    "print(\"The score on test dataset is: {}\".format(gridsearch_Multi_Gaussian.score(X_test, y_test)))"
   ]
  },
  {
   "cell_type": "markdown",
   "id": "03ca1c66",
   "metadata": {
    "pycharm": {
     "name": "#%% md\n"
    }
   },
   "source": [
    "### (h) Model 11: Neural Networks"
   ]
  },
  {
   "cell_type": "code",
   "execution_count": 27,
   "id": "b6efb79b",
   "metadata": {
    "pycharm": {
     "name": "#%%\n"
    }
   },
   "outputs": [
    {
     "data": {
      "text/plain": [
       "0.7913385826771654"
      ]
     },
     "execution_count": 27,
     "metadata": {},
     "output_type": "execute_result"
    }
   ],
   "source": [
    "from sklearn.neural_network import MLPClassifier\n",
    "\n",
    "MLP_clf = MLPClassifier().fit(X_train, y_train)\n",
    "MLP_clf.score(X_test, y_test)"
   ]
  },
  {
   "cell_type": "code",
   "execution_count": 28,
   "id": "5ebd1e80",
   "metadata": {
    "pycharm": {
     "name": "#%%\n"
    }
   },
   "outputs": [
    {
     "name": "stdout",
     "output_type": "stream",
     "text": [
      "Best Estimator is: MLPClassifier(hidden_layer_sizes=10, max_iter=1000, random_state=20)\n",
      "Best Parameter is: {'activation': 'relu', 'alpha': 0.0001, 'hidden_layer_sizes': 10, 'learning_rate': 'constant', 'max_iter': 1000, 'random_state': 20}\n",
      "Best score on train dataset is: 0.7693483000888315\n",
      "The score on test dataset is: 0.7204724409448819\n"
     ]
    }
   ],
   "source": [
    "import warnings\n",
    "warnings.filterwarnings(\"ignore\")\n",
    "\n",
    "gridsearch_MLP = GridSearchCV(\n",
    "    estimator = MLPClassifier(), \n",
    "    param_grid = {'hidden_layer_sizes': [1, 10], 'random_state': [1, 20], 'max_iter': [1000, 10000], \n",
    "                  'activation': ('identity', 'logistic', 'relu', 'tanh'), \n",
    "                  'alpha': [0.0001, 1], \n",
    "                  'learning_rate': ('constant', 'invscaling', 'adaptive')}).fit(X_train, y_train)\n",
    "\n",
    "print(\"Best Estimator is: {}\".format(gridsearch_MLP.best_estimator_))\n",
    "print(\"Best Parameter is: {}\".format(gridsearch_MLP.best_params_))\n",
    "print(\"Best score on train dataset is: {}\".format(gridsearch_MLP.best_score_))\n",
    "print(\"The score on test dataset is: {}\".format(gridsearch_MLP.score(X_test, y_test)))"
   ]
  },
  {
   "cell_type": "markdown",
   "id": "5fa62b78",
   "metadata": {
    "pycharm": {
     "name": "#%% md\n"
    }
   },
   "source": [
    "### (i) Ensemble Methods"
   ]
  },
  {
   "cell_type": "markdown",
   "id": "22532776",
   "metadata": {
    "pycharm": {
     "name": "#%% md\n"
    }
   },
   "source": [
    "#### Model 12: Bagging Meta-Estimator"
   ]
  },
  {
   "cell_type": "code",
   "execution_count": 29,
   "id": "f9bea565",
   "metadata": {
    "pycharm": {
     "name": "#%%\n"
    }
   },
   "outputs": [
    {
     "data": {
      "text/plain": [
       "0.884514435695538"
      ]
     },
     "execution_count": 29,
     "metadata": {},
     "output_type": "execute_result"
    }
   ],
   "source": [
    "from sklearn.ensemble import BaggingClassifier\n",
    "\n",
    "Bag_clf = BaggingClassifier(base_estimator = svm.SVC(), n_estimators=10, random_state = 0).fit(X_train, y_train)\n",
    "Bag_clf.score(X_test, y_test)"
   ]
  },
  {
   "cell_type": "markdown",
   "id": "b4927487",
   "metadata": {
    "pycharm": {
     "name": "#%% md\n"
    }
   },
   "source": [
    " #### Model 13: Forests of Randomized Trees"
   ]
  },
  {
   "cell_type": "code",
   "execution_count": 30,
   "id": "b0ebb7ec",
   "metadata": {
    "pycharm": {
     "name": "#%%\n"
    }
   },
   "outputs": [
    {
     "data": {
      "text/plain": [
       "0.9238845144356955"
      ]
     },
     "execution_count": 30,
     "metadata": {},
     "output_type": "execute_result"
    }
   ],
   "source": [
    "from sklearn.ensemble import RandomForestClassifier\n",
    "\n",
    "randForest_clf= RandomForestClassifier().fit(X_train, y_train)\n",
    "randForest_clf.score(X_test, y_test)"
   ]
  },
  {
   "cell_type": "code",
   "execution_count": 31,
   "id": "3717f218",
   "metadata": {
    "pycharm": {
     "name": "#%%\n"
    }
   },
   "outputs": [
    {
     "name": "stdout",
     "output_type": "stream",
     "text": [
      "Best Estimator is: RandomForestClassifier(max_depth=1, n_estimators=3, random_state=10)\n",
      "Best score on train dataset is: 0.9261811023622046\n",
      "The score on test dataset is: 0.926509186351706\n"
     ]
    }
   ],
   "source": [
    "gridsearch_randForest = GridSearchCV(estimator = RandomForestClassifier(), \n",
    "                                     param_grid = {'max_depth': [1, 10], \n",
    "                                                   'n_estimators': [3, 200], \n",
    "                                                   'random_state': [0, 10]}, cv = 6).fit(X_train, y_train)\n",
    "\n",
    "print(\"Best Estimator is: {}\".format(gridsearch_randForest.best_estimator_))\n",
    "print(\"Best score on train dataset is: {}\".format(gridsearch_randForest.best_score_))\n",
    "print(\"The score on test dataset is: {}\".format(gridsearch_randForest.score(X_test, y_test)))"
   ]
  },
  {
   "cell_type": "markdown",
   "id": "34971cda",
   "metadata": {
    "pycharm": {
     "name": "#%% md\n"
    }
   },
   "source": [
    "#### Model 14: Boosting - AdaBoost"
   ]
  },
  {
   "cell_type": "code",
   "execution_count": 33,
   "id": "c0ac36d8",
   "metadata": {
    "pycharm": {
     "name": "#%%\n"
    }
   },
   "outputs": [
    {
     "name": "stdout",
     "output_type": "stream",
     "text": [
      "Best Estimator is: AdaBoostClassifier(n_estimators=3, random_state=0)\n",
      "Best score on train dataset is: 0.9255237018493097\n",
      "The score on test dataset is: 0.9304461942257218\n"
     ]
    }
   ],
   "source": [
    "from sklearn.ensemble import AdaBoostClassifier\n",
    "\n",
    "AdaBoost_clf = AdaBoostClassifier()\n",
    "\n",
    "gridsearch_AdaBoost = GridSearchCV(estimator = AdaBoostClassifier(), \n",
    "                                     param_grid = {'n_estimators': [3, 200], \n",
    "                                                   'random_state': [0, 10]}).fit(X_train, y_train)\n",
    "\n",
    "print(\"Best Estimator is: {}\".format(gridsearch_AdaBoost.best_estimator_))\n",
    "print(\"Best score on train dataset is: {}\".format(gridsearch_AdaBoost.best_score_))\n",
    "print(\"The score on test dataset is: {}\".format(gridsearch_AdaBoost.score(X_test, y_test)))"
   ]
  },
  {
   "cell_type": "code",
   "execution_count": 34,
   "id": "c58888f2",
   "metadata": {
    "pycharm": {
     "name": "#%%\n"
    }
   },
   "outputs": [
    {
     "name": "stdout",
     "output_type": "stream",
     "text": [
      "Best Estimator is: AdaBoostClassifier(learning_rate=0.1, n_estimators=200, random_state=0)\n",
      "Best score on train dataset is: 0.9271625077391047\n",
      "The score on test dataset is: 0.9304461942257218\n"
     ]
    }
   ],
   "source": [
    "from sklearn.ensemble import GradientBoostingClassifier\n",
    "\n",
    "GraBoost_clf = GradientBoostingClassifier()\n",
    "\n",
    "gridsearch_GraBoost = GridSearchCV(\n",
    "    estimator = AdaBoostClassifier(), \n",
    "    param_grid = {'n_estimators': [3, 200], \n",
    "                  'learning_rate': [0.1, 1.0], 'random_state': [0, 10]}).fit(X_train, y_train)\n",
    "\n",
    "print(\"Best Estimator is: {}\".format(gridsearch_GraBoost.best_estimator_))\n",
    "print(\"Best score on train dataset is: {}\".format(gridsearch_GraBoost.best_score_))\n",
    "print(\"The score on test dataset is: {}\".format(gridsearch_GraBoost.score(X_test, y_test)))"
   ]
  },
  {
   "cell_type": "code",
   "execution_count": 35,
   "id": "fb6464bc",
   "metadata": {
    "pycharm": {
     "name": "#%%\n"
    }
   },
   "outputs": [
    {
     "name": "stdout",
     "output_type": "stream",
     "text": [
      "Best Estimator is: HistGradientBoostingClassifier(learning_rate=1.0, max_bins=100, max_iter=3,\n",
      "                               max_leaf_nodes=20)\n",
      "Best score on train dataset is: 0.9173178282053351\n",
      "The score on test dataset is: 0.9238845144356955\n"
     ]
    }
   ],
   "source": [
    "from sklearn.ensemble import HistGradientBoostingClassifier\n",
    "\n",
    "HistGraBoost_clf = HistGradientBoostingClassifier()\n",
    "\n",
    "gridsearch_HistGraBoost = GridSearchCV(\n",
    "    estimator = HistGradientBoostingClassifier(), \n",
    "    param_grid = {'max_iter': [3, 200], \n",
    "                  'learning_rate': [0.1, 1.0], \n",
    "                  'max_bins': [100, 255], \n",
    "                  'max_leaf_nodes': [20, 50]}).fit(X_train, y_train)\n",
    "\n",
    "print(\"Best Estimator is: {}\".format(gridsearch_HistGraBoost.best_estimator_))\n",
    "print(\"Best score on train dataset is: {}\".format(gridsearch_HistGraBoost.best_score_))\n",
    "print(\"The score on test dataset is: {}\".format(gridsearch_HistGraBoost.score(X_test, y_test)))"
   ]
  },
  {
   "cell_type": "markdown",
   "id": "00af25c4",
   "metadata": {
    "pycharm": {
     "name": "#%% md\n"
    }
   },
   "source": [
    "#### Model 15.1 Voting Classifier - Hard"
   ]
  },
  {
   "cell_type": "code",
   "execution_count": 36,
   "id": "98638d59",
   "metadata": {
    "pycharm": {
     "name": "#%%\n"
    }
   },
   "outputs": [
    {
     "name": "stdout",
     "output_type": "stream",
     "text": [
      "Accuracy: 0.92 (+/- 0.02) [Random Forest]\n",
      "Accuracy: 0.93 (+/- 0.02) [Logistic Regression]\n",
      "Accuracy: 0.92 (+/- 0.01) [Ensemble]\n"
     ]
    }
   ],
   "source": [
    "from sklearn.model_selection import cross_val_score\n",
    "from sklearn.ensemble import VotingClassifier\n",
    "\n",
    "vot_hard_clf = VotingClassifier(estimators = [('rf', randForest_clf), ('lr', LogistReg_clf)], voting = 'hard')\n",
    "\n",
    "for clf, label in zip([randForest_clf, LogistReg_clf, vot_hard_clf], \n",
    "                      ['Random Forest', 'Logistic Regression', 'Ensemble']):\n",
    "    scores = cross_val_score(clf, X, y, scoring = 'accuracy', cv = 8)\n",
    "    print(\"Accuracy: %0.2f (+/- %0.2f) [%s]\" % (scores.mean(), scores.std(), label))"
   ]
  },
  {
   "cell_type": "markdown",
   "id": "770741ab",
   "metadata": {
    "pycharm": {
     "name": "#%% md\n"
    }
   },
   "source": [
    "#### Model 15.2: Voting Classifier - Soft"
   ]
  },
  {
   "cell_type": "code",
   "execution_count": 37,
   "id": "690fadb9",
   "metadata": {
    "pycharm": {
     "name": "#%%\n"
    }
   },
   "outputs": [
    {
     "name": "stdout",
     "output_type": "stream",
     "text": [
      "Accuracy: 0.89 (+/- 0.02) [Decision Tree]\n",
      "Accuracy: 0.88 (+/- 0.03) [Soft SVM]\n",
      "Accuracy: 0.90 (+/- 0.03) [Ensemble]\n"
     ]
    }
   ],
   "source": [
    "# Training classifiers\n",
    "\n",
    "vot_soft_clf = VotingClassifier(estimators = [('dt', DT_clf), ('svc', svm_rbf_clf)], \n",
    "                                voting = 'soft', weights = [3, 5])\n",
    "\n",
    "for clf, label in zip([DT_clf, svm_rbf_clf, vot_soft_clf], ['Decision Tree', 'Soft SVM', 'Ensemble']):\n",
    "    scores = cross_val_score(clf, X, y, scoring = 'accuracy', cv = 5)\n",
    "    print(\"Accuracy: %0.2f (+/- %0.2f) [%s]\" % (scores.mean(), scores.std(), label))"
   ]
  },
  {
   "cell_type": "markdown",
   "id": "880f7f00",
   "metadata": {
    "pycharm": {
     "name": "#%% md\n"
    }
   },
   "source": [
    "## 3. Select Target Metric"
   ]
  },
  {
   "cell_type": "markdown",
   "id": "c208ffd7",
   "metadata": {
    "pycharm": {
     "name": "#%% md\n"
    }
   },
   "source": [
    "1. Receiver Operating Characteristic Curve (ROC) can make a tradeoff between hit rate (TP) and false alarm (FP) over nosiy channels.\n",
    "2. Area Under the ROC (AUC) can be used to measure the quality of an Algorithm."
   ]
  },
  {
   "cell_type": "code",
   "execution_count": 38,
   "id": "60e75b46",
   "metadata": {
    "pycharm": {
     "name": "#%%\n"
    }
   },
   "outputs": [
    {
     "data": {
      "image/png": "[encoded data removed]",
      "text/plain": [
       "<Figure size 432x288 with 1 Axes>"
      ]
     },
     "metadata": {
      "needs_background": "light"
     },
     "output_type": "display_data"
    }
   ],
   "source": [
    "from sklearn import metrics\n",
    "from itertools import cycle\n",
    "from sklearn.metrics import auc\n",
    "from sklearn.metrics import roc_auc_score\n",
    "from sklearn.metrics import RocCurveDisplay\n",
    "from sklearn.model_selection import StratifiedKFold\n",
    "\n",
    "cv = StratifiedKFold(n_splits = 2)\n",
    "classifier = RandomForestClassifier(max_depth = 10, n_estimators = 200, random_state = 0)\n",
    "\n",
    "tprs = []\n",
    "aucs = []\n",
    "mean_fpr = np.linspace(0, 1, 100)\n",
    "\n",
    "fig, ax = plt.subplots()\n",
    "for i, (train, test) in enumerate(cv.split(X, y)):\n",
    "    classifier.fit(X_train, y_train)\n",
    "    viz = RocCurveDisplay.from_estimator(\n",
    "        classifier,\n",
    "        X_test,\n",
    "        y_test,\n",
    "        name = \"ROC fold {}\".format(i),\n",
    "        lw = 1,\n",
    "        ax = ax,\n",
    "    )\n",
    "    interp_tpr = np.interp(mean_fpr, viz.fpr, viz.tpr)\n",
    "    interp_tpr[0] = 0.0\n",
    "    tprs.append(interp_tpr)\n",
    "    aucs.append(viz.roc_auc)\n",
    "\n",
    "ax.plot([0, 1], [0, 1], linestyle = \"--\", lw = 2, color = \"r\", label = \"Chance\", alpha = 0.8)\n",
    "\n",
    "mean_tpr = np.mean(tprs, axis=0)\n",
    "mean_tpr[-1] = 1.0\n",
    "mean_auc = auc(mean_fpr, mean_tpr)\n",
    "std_auc = np.std(aucs)\n",
    "ax.plot(\n",
    "    mean_fpr,\n",
    "    mean_tpr,\n",
    "    color=\"b\",\n",
    "    label=r\"Mean ROC (AUC = %0.2f $\\pm$ %0.2f)\" % (mean_auc, std_auc),\n",
    "    lw=2,\n",
    "    alpha=0.8,\n",
    ")\n",
    "\n",
    "std_tpr = np.std(tprs, axis=0)\n",
    "tprs_upper = np.minimum(mean_tpr + std_tpr, 1)\n",
    "tprs_lower = np.maximum(mean_tpr - std_tpr, 0)\n",
    "ax.fill_between(\n",
    "    mean_fpr,\n",
    "    tprs_lower,\n",
    "    tprs_upper,\n",
    "    color=\"grey\",\n",
    "    alpha=0.2,\n",
    "    label=r\"$\\pm$ 1 std. dev.\",\n",
    ")\n",
    "\n",
    "ax.set(\n",
    "    xlim=[-0.05, 1.05],\n",
    "    ylim=[-0.05, 1.05],\n",
    "    title=\"Receiver operating characteristic for Rice daten with random forest model\",\n",
    ")\n",
    "ax.legend(loc = \"lower right\")\n",
    "plt.show()"
   ]
  },
  {
   "cell_type": "markdown",
   "id": "807a8a51",
   "metadata": {
    "pycharm": {
     "name": "#%% md\n"
    }
   },
   "source": [
    "## 4. Plotten"
   ]
  },
  {
   "cell_type": "markdown",
   "id": "683b3c77",
   "metadata": {
    "pycharm": {
     "name": "#%% md\n"
    }
   },
   "source": [
    "### A curve with the Search Time depending on the Number of CPU Cores"
   ]
  },
  {
   "cell_type": "markdown",
   "id": "744897cd",
   "metadata": {
    "pycharm": {
     "name": "#%% md\n"
    }
   },
   "source": [
    "#### LogisticRegression Model"
   ]
  },
  {
   "cell_type": "code",
   "execution_count": 39,
   "id": "e670019d",
   "metadata": {
    "pycharm": {
     "name": "#%%\n"
    }
   },
   "outputs": [
    {
     "data": {
      "image/png": "[encoded data removed]",
      "text/plain": [
       "<Figure size 432x288 with 1 Axes>"
      ]
     },
     "metadata": {
      "needs_background": "light"
     },
     "output_type": "display_data"
    }
   ],
   "source": [
    "clf1 = GridSearchCV(estimator = LogisticRegression(), param_grid = {'n_jobs': [-2, -1, 1, 2, 3, 4, 5]}, cv = 6).fit(X_train, y_train)\n",
    "results1 = pd.DataFrame(clf1.cv_results_)\n",
    "fig, ax = plt.subplots()\n",
    "ax.plot(results1.param_n_jobs, results1.mean_fit_time, linewidth = 2.0)\n",
    "plt.title('Kurve für LogisticRegression Model')\n",
    "plt.xlabel('die Anzahl an CPU-Kernen')\n",
    "plt.ylabel('Suchzeit')\n",
    "ax.set(xlim = (-3, 6), ylim = (0, 1))\n",
    "plt.show()"
   ]
  },
  {
   "cell_type": "markdown",
   "id": "6ca5917d",
   "metadata": {
    "pycharm": {
     "name": "#%% md\n"
    }
   },
   "source": [
    "#### GaussianNB"
   ]
  },
  {
   "cell_type": "code",
   "execution_count": 40,
   "id": "a235a342",
   "metadata": {
    "pycharm": {
     "name": "#%%\n"
    }
   },
   "outputs": [
    {
     "data": {
      "image/png": "[encoded data removed]",
      "text/plain": [
       "<Figure size 432x288 with 1 Axes>"
      ]
     },
     "metadata": {
      "needs_background": "light"
     },
     "output_type": "display_data"
    }
   ],
   "source": [
    "# GaussianNB kann sehr schnell laufen\n",
    "\n",
    "fig, ax = plt.subplots()\n",
    "plt.title('Kurve für SVM Model')\n",
    "plt.xlabel('die Anzahl an CPU-Kernen')\n",
    "plt.ylabel('Suchzeit')\n",
    "ax.set(xlim = (-3, 6), ylim = (0, 0.025))\n",
    "\n",
    "i = -2\n",
    "for i in range(-2, 6):\n",
    "    if i == 0: \n",
    "        continue\n",
    "    clf2 = GridSearchCV(estimator = GaussianNB(), param_grid = {}, n_jobs = i).fit(X_train, y_train)\n",
    "    results2 = pd.DataFrame(clf2.cv_results_).mean_fit_time\n",
    "    ax.plot(i, results2, 'ro')\n",
    "    i = i + 1"
   ]
  },
  {
   "cell_type": "markdown",
   "id": "f8dd1e55",
   "metadata": {
    "pycharm": {
     "name": "#%% md\n"
    }
   },
   "source": [
    "#### Comparison between RandomForest Classifier and SVM Classifier"
   ]
  },
  {
   "cell_type": "code",
   "execution_count": 41,
   "id": "28efaa61",
   "metadata": {
    "pycharm": {
     "name": "#%%\n"
    }
   },
   "outputs": [],
   "source": [
    "results3 = pd.DataFrame()\n",
    "results4 = pd.DataFrame()\n",
    "\n",
    "i = -2\n",
    "for i in range(-2, 6):\n",
    "    if i == 0: \n",
    "        continue\n",
    "    clf3 = GridSearchCV(estimator = RandomForestClassifier(), param_grid = {}, n_jobs = i).fit(X_train, y_train)\n",
    "    results3 = pd.concat([results3, pd.DataFrame(clf3.cv_results_)], axis = 0, ignore_index = True)\n",
    "    i = i + 1\n",
    "    \n",
    "j = -2\n",
    "for j in range(-2, 6):\n",
    "    if j == 0: \n",
    "        continue\n",
    "    clf4 = GridSearchCV(estimator = svm.SVC(), param_grid = {}, n_jobs = j).fit(X_train, y_train)\n",
    "    results4 = pd.concat([results4, pd.DataFrame(clf4.cv_results_)], axis = 0, ignore_index = True)\n",
    "    j = j + 1"
   ]
  },
  {
   "cell_type": "code",
   "execution_count": 42,
   "id": "9e819dcb",
   "metadata": {
    "pycharm": {
     "name": "#%%\n"
    }
   },
   "outputs": [
    {
     "data": {
      "text/html": [
       "<div>\n",
       "<style scoped>\n",
       "    .dataframe tbody tr th:only-of-type {\n",
       "        vertical-align: middle;\n",
       "    }\n",
       "\n",
       "    .dataframe tbody tr th {\n",
       "        vertical-align: top;\n",
       "    }\n",
       "\n",
       "    .dataframe thead th {\n",
       "        text-align: right;\n",
       "    }\n",
       "</style>\n",
       "<table border=\"1\" class=\"dataframe\">\n",
       "  <thead>\n",
       "    <tr style=\"text-align: right;\">\n",
       "      <th></th>\n",
       "      <th>n_jobs</th>\n",
       "      <th>RandomForestClassifier</th>\n",
       "      <th>SVM Classifier</th>\n",
       "    </tr>\n",
       "  </thead>\n",
       "  <tbody>\n",
       "    <tr>\n",
       "      <th>0</th>\n",
       "      <td>-2</td>\n",
       "      <td>0.481677</td>\n",
       "      <td>0.141281</td>\n",
       "    </tr>\n",
       "    <tr>\n",
       "      <th>1</th>\n",
       "      <td>-1</td>\n",
       "      <td>0.567955</td>\n",
       "      <td>0.168516</td>\n",
       "    </tr>\n",
       "    <tr>\n",
       "      <th>2</th>\n",
       "      <td>1</td>\n",
       "      <td>0.353349</td>\n",
       "      <td>0.097579</td>\n",
       "    </tr>\n",
       "    <tr>\n",
       "      <th>3</th>\n",
       "      <td>2</td>\n",
       "      <td>0.401375</td>\n",
       "      <td>0.121139</td>\n",
       "    </tr>\n",
       "    <tr>\n",
       "      <th>4</th>\n",
       "      <td>3</td>\n",
       "      <td>0.473073</td>\n",
       "      <td>0.145880</td>\n",
       "    </tr>\n",
       "    <tr>\n",
       "      <th>5</th>\n",
       "      <td>4</td>\n",
       "      <td>0.548914</td>\n",
       "      <td>0.173076</td>\n",
       "    </tr>\n",
       "    <tr>\n",
       "      <th>6</th>\n",
       "      <td>5</td>\n",
       "      <td>0.590712</td>\n",
       "      <td>0.203514</td>\n",
       "    </tr>\n",
       "  </tbody>\n",
       "</table>\n",
       "</div>"
      ],
      "text/plain": [
       "   n_jobs  RandomForestClassifier  SVM Classifier\n",
       "0      -2                0.481677        0.141281\n",
       "1      -1                0.567955        0.168516\n",
       "2       1                0.353349        0.097579\n",
       "3       2                0.401375        0.121139\n",
       "4       3                0.473073        0.145880\n",
       "5       4                0.548914        0.173076\n",
       "6       5                0.590712        0.203514"
      ]
     },
     "execution_count": 42,
     "metadata": {},
     "output_type": "execute_result"
    }
   ],
   "source": [
    "results = pd.DataFrame({\n",
    "    'n_jobs': [-2, -1, 1, 2, 3, 4, 5],\n",
    "    'RandomForestClassifier': results3['mean_fit_time'],\n",
    "    'SVM Classifier': results4['mean_fit_time'],\n",
    "})\n",
    "\n",
    "results"
   ]
  },
  {
   "cell_type": "code",
   "execution_count": 44,
   "id": "befce11d",
   "metadata": {
    "pycharm": {
     "name": "#%%\n"
    }
   },
   "outputs": [
    {
     "data": {
      "text/plain": [
       "<matplotlib.legend.Legend at 0x120d44370>"
      ]
     },
     "execution_count": 44,
     "metadata": {},
     "output_type": "execute_result"
    },
    {
     "data": {
      "image/png": "[encoded data removed]",
      "text/plain": [
       "<Figure size 432x288 with 1 Axes>"
      ]
     },
     "metadata": {
      "needs_background": "light"
     },
     "output_type": "display_data"
    }
   ],
   "source": [
    "fig, ax = plt.subplots()\n",
    "plt.title(' Comparison between RandomForestClassifier and SVM Classifier')\n",
    "plt.xlabel('die Anzahl an CPU-Kernen')\n",
    "plt.ylabel('Suchzeit')\n",
    "ax.set(xlim = (-3, 6), ylim=(0, 2))\n",
    "\n",
    "ax.plot(results['n_jobs'], results['RandomForestClassifier'],  label = 'RandomForestClassifier', c = 'blue')\n",
    "plt.plot(results['n_jobs'], results['RandomForestClassifier'] + results3['std_fit_time'], \"b--\")\n",
    "plt.plot(results['n_jobs'], results['RandomForestClassifier'] - results3['std_fit_time'], \"b--\")\n",
    "\n",
    "plt.fill_between(results['n_jobs'], \n",
    "                 results['RandomForestClassifier'] + results3['std_fit_time'], \n",
    "                 results['RandomForestClassifier'] - results3['std_fit_time'], alpha = 0.2)\n",
    "\n",
    "ax.plot(results['n_jobs'], results['SVM Classifier'], label = 'SVM', c = 'red')\n",
    "plt.plot(results['n_jobs'], results['SVM Classifier'] + results4['std_fit_time'], \"r--\")\n",
    "plt.plot(results['n_jobs'], results['SVM Classifier'] - results4['std_fit_time'], \"r--\")\n",
    "\n",
    "plt.fill_between(results['n_jobs'], results['SVM Classifier'] + results4['std_fit_time'], \n",
    "                 results['SVM Classifier'] - results4['std_fit_time'], alpha = 0.2)\n",
    "\n",
    "plt.legend(loc=\"upper left\")"
   ]
  },
  {
   "cell_type": "code",
   "execution_count": 45,
   "id": "f63a09f5",
   "metadata": {
    "pycharm": {
     "name": "#%%\n"
    }
   },
   "outputs": [
    {
     "data": {
      "text/plain": [
       "Text(0.5, 1.0, 'Boxplot for RandomForestClassifier and SVM Classifier')"
      ]
     },
     "execution_count": 45,
     "metadata": {},
     "output_type": "execute_result"
    },
    {
     "data": {
      "image/png": "[encoded data removed]",
      "text/plain": [
       "<Figure size 432x288 with 1 Axes>"
      ]
     },
     "metadata": {
      "needs_background": "light"
     },
     "output_type": "display_data"
    }
   ],
   "source": [
    "boxplot = results.boxplot(column=['RandomForestClassifier', 'SVM Classifier'])\n",
    "plt.title('Boxplot for RandomForestClassifier and SVM Classifier')"
   ]
  },
  {
   "cell_type": "markdown",
   "id": "9eeeea7d",
   "metadata": {
    "pycharm": {
     "name": "#%% md\n"
    }
   },
   "source": [
    "#### Target Metric depending on Hyperparameters for RandomForest Classifier"
   ]
  },
  {
   "cell_type": "code",
   "execution_count": 47,
   "id": "13eeaa84",
   "metadata": {
    "pycharm": {
     "name": "#%%\n"
    }
   },
   "outputs": [],
   "source": [
    "df_gridsearch_randForest = pd.DataFrame(gridsearch_randForest.cv_results_)"
   ]
  },
  {
   "cell_type": "code",
   "execution_count": 48,
   "id": "b4062c5b",
   "metadata": {
    "pycharm": {
     "name": "#%%\n"
    }
   },
   "outputs": [
    {
     "data": {
      "text/plain": [
       "0.943214724034523"
      ]
     },
     "execution_count": 48,
     "metadata": {},
     "output_type": "execute_result"
    }
   ],
   "source": [
    "roc_auc_score(y_train, gridsearch_randForest.predict_proba(X_train)[:, 1])"
   ]
  },
  {
   "cell_type": "code",
   "execution_count": 49,
   "id": "3ce0ebfc",
   "metadata": {
    "pycharm": {
     "name": "#%%\n"
    }
   },
   "outputs": [
    {
     "data": {
      "text/plain": [
       "0.9475370919881306"
      ]
     },
     "execution_count": 49,
     "metadata": {},
     "output_type": "execute_result"
    }
   ],
   "source": [
    "roc_auc_score(y_test, gridsearch_randForest.predict_proba(X_test)[:, 1])"
   ]
  },
  {
   "cell_type": "code",
   "execution_count": 50,
   "id": "6731c3dd",
   "metadata": {
    "pycharm": {
     "name": "#%%\n"
    }
   },
   "outputs": [
    {
     "data": {
      "text/html": [
       "<div>\n",
       "<style scoped>\n",
       "    .dataframe tbody tr th:only-of-type {\n",
       "        vertical-align: middle;\n",
       "    }\n",
       "\n",
       "    .dataframe tbody tr th {\n",
       "        vertical-align: top;\n",
       "    }\n",
       "\n",
       "    .dataframe thead th {\n",
       "        text-align: right;\n",
       "    }\n",
       "</style>\n",
       "<table border=\"1\" class=\"dataframe\">\n",
       "  <thead>\n",
       "    <tr style=\"text-align: right;\">\n",
       "      <th></th>\n",
       "      <th>mean_fit_time</th>\n",
       "      <th>std_fit_time</th>\n",
       "      <th>mean_score_time</th>\n",
       "      <th>std_score_time</th>\n",
       "      <th>param_max_depth</th>\n",
       "      <th>param_n_estimators</th>\n",
       "      <th>param_random_state</th>\n",
       "      <th>params</th>\n",
       "      <th>split0_test_score</th>\n",
       "      <th>split1_test_score</th>\n",
       "      <th>split2_test_score</th>\n",
       "      <th>split3_test_score</th>\n",
       "      <th>split4_test_score</th>\n",
       "      <th>mean_test_score</th>\n",
       "      <th>std_test_score</th>\n",
       "      <th>rank_test_score</th>\n",
       "    </tr>\n",
       "  </thead>\n",
       "  <tbody>\n",
       "    <tr>\n",
       "      <th>0</th>\n",
       "      <td>0.007687</td>\n",
       "      <td>0.000257</td>\n",
       "      <td>0.002360</td>\n",
       "      <td>0.000126</td>\n",
       "      <td>1</td>\n",
       "      <td>3</td>\n",
       "      <td>0</td>\n",
       "      <td>{'max_depth': 1, 'n_estimators': 3, 'random_st...</td>\n",
       "      <td>0.873770</td>\n",
       "      <td>0.880328</td>\n",
       "      <td>0.896721</td>\n",
       "      <td>0.858785</td>\n",
       "      <td>0.878489</td>\n",
       "      <td>0.877619</td>\n",
       "      <td>0.012186</td>\n",
       "      <td>8</td>\n",
       "    </tr>\n",
       "    <tr>\n",
       "      <th>1</th>\n",
       "      <td>0.008551</td>\n",
       "      <td>0.000705</td>\n",
       "      <td>0.002705</td>\n",
       "      <td>0.000279</td>\n",
       "      <td>1</td>\n",
       "      <td>3</td>\n",
       "      <td>10</td>\n",
       "      <td>{'max_depth': 1, 'n_estimators': 3, 'random_st...</td>\n",
       "      <td>0.911475</td>\n",
       "      <td>0.934426</td>\n",
       "      <td>0.947541</td>\n",
       "      <td>0.926108</td>\n",
       "      <td>0.921182</td>\n",
       "      <td>0.928147</td>\n",
       "      <td>0.012216</td>\n",
       "      <td>1</td>\n",
       "    </tr>\n",
       "    <tr>\n",
       "      <th>2</th>\n",
       "      <td>0.283561</td>\n",
       "      <td>0.002504</td>\n",
       "      <td>0.021188</td>\n",
       "      <td>0.000107</td>\n",
       "      <td>1</td>\n",
       "      <td>200</td>\n",
       "      <td>0</td>\n",
       "      <td>{'max_depth': 1, 'n_estimators': 200, 'random_...</td>\n",
       "      <td>0.901639</td>\n",
       "      <td>0.932787</td>\n",
       "      <td>0.924590</td>\n",
       "      <td>0.906404</td>\n",
       "      <td>0.911330</td>\n",
       "      <td>0.915350</td>\n",
       "      <td>0.011607</td>\n",
       "      <td>4</td>\n",
       "    </tr>\n",
       "    <tr>\n",
       "      <th>3</th>\n",
       "      <td>0.289628</td>\n",
       "      <td>0.007532</td>\n",
       "      <td>0.021340</td>\n",
       "      <td>0.000167</td>\n",
       "      <td>1</td>\n",
       "      <td>200</td>\n",
       "      <td>10</td>\n",
       "      <td>{'max_depth': 1, 'n_estimators': 200, 'random_...</td>\n",
       "      <td>0.898361</td>\n",
       "      <td>0.931148</td>\n",
       "      <td>0.926230</td>\n",
       "      <td>0.904762</td>\n",
       "      <td>0.912972</td>\n",
       "      <td>0.914694</td>\n",
       "      <td>0.012427</td>\n",
       "      <td>5</td>\n",
       "    </tr>\n",
       "    <tr>\n",
       "      <th>4</th>\n",
       "      <td>0.013665</td>\n",
       "      <td>0.001141</td>\n",
       "      <td>0.002757</td>\n",
       "      <td>0.000317</td>\n",
       "      <td>10</td>\n",
       "      <td>3</td>\n",
       "      <td>0</td>\n",
       "      <td>{'max_depth': 10, 'n_estimators': 3, 'random_s...</td>\n",
       "      <td>0.903279</td>\n",
       "      <td>0.919672</td>\n",
       "      <td>0.922951</td>\n",
       "      <td>0.909688</td>\n",
       "      <td>0.909688</td>\n",
       "      <td>0.913056</td>\n",
       "      <td>0.007211</td>\n",
       "      <td>6</td>\n",
       "    </tr>\n",
       "    <tr>\n",
       "      <th>5</th>\n",
       "      <td>0.012386</td>\n",
       "      <td>0.000799</td>\n",
       "      <td>0.002467</td>\n",
       "      <td>0.000098</td>\n",
       "      <td>10</td>\n",
       "      <td>3</td>\n",
       "      <td>10</td>\n",
       "      <td>{'max_depth': 10, 'n_estimators': 3, 'random_s...</td>\n",
       "      <td>0.888525</td>\n",
       "      <td>0.913115</td>\n",
       "      <td>0.916393</td>\n",
       "      <td>0.901478</td>\n",
       "      <td>0.911330</td>\n",
       "      <td>0.906168</td>\n",
       "      <td>0.010127</td>\n",
       "      <td>7</td>\n",
       "    </tr>\n",
       "    <tr>\n",
       "      <th>6</th>\n",
       "      <td>0.584525</td>\n",
       "      <td>0.011716</td>\n",
       "      <td>0.030073</td>\n",
       "      <td>0.001618</td>\n",
       "      <td>10</td>\n",
       "      <td>200</td>\n",
       "      <td>0</td>\n",
       "      <td>{'max_depth': 10, 'n_estimators': 200, 'random...</td>\n",
       "      <td>0.911475</td>\n",
       "      <td>0.926230</td>\n",
       "      <td>0.944262</td>\n",
       "      <td>0.917898</td>\n",
       "      <td>0.917898</td>\n",
       "      <td>0.923553</td>\n",
       "      <td>0.011365</td>\n",
       "      <td>2</td>\n",
       "    </tr>\n",
       "    <tr>\n",
       "      <th>7</th>\n",
       "      <td>0.580406</td>\n",
       "      <td>0.007058</td>\n",
       "      <td>0.028978</td>\n",
       "      <td>0.000232</td>\n",
       "      <td>10</td>\n",
       "      <td>200</td>\n",
       "      <td>10</td>\n",
       "      <td>{'max_depth': 10, 'n_estimators': 200, 'random...</td>\n",
       "      <td>0.911475</td>\n",
       "      <td>0.926230</td>\n",
       "      <td>0.936066</td>\n",
       "      <td>0.919540</td>\n",
       "      <td>0.919540</td>\n",
       "      <td>0.922570</td>\n",
       "      <td>0.008209</td>\n",
       "      <td>3</td>\n",
       "    </tr>\n",
       "  </tbody>\n",
       "</table>\n",
       "</div>"
      ],
      "text/plain": [
       "   mean_fit_time  std_fit_time  mean_score_time  std_score_time  \\\n",
       "0       0.007687      0.000257         0.002360        0.000126   \n",
       "1       0.008551      0.000705         0.002705        0.000279   \n",
       "2       0.283561      0.002504         0.021188        0.000107   \n",
       "3       0.289628      0.007532         0.021340        0.000167   \n",
       "4       0.013665      0.001141         0.002757        0.000317   \n",
       "5       0.012386      0.000799         0.002467        0.000098   \n",
       "6       0.584525      0.011716         0.030073        0.001618   \n",
       "7       0.580406      0.007058         0.028978        0.000232   \n",
       "\n",
       "  param_max_depth param_n_estimators param_random_state  \\\n",
       "0               1                  3                  0   \n",
       "1               1                  3                 10   \n",
       "2               1                200                  0   \n",
       "3               1                200                 10   \n",
       "4              10                  3                  0   \n",
       "5              10                  3                 10   \n",
       "6              10                200                  0   \n",
       "7              10                200                 10   \n",
       "\n",
       "                                              params  split0_test_score  \\\n",
       "0  {'max_depth': 1, 'n_estimators': 3, 'random_st...           0.873770   \n",
       "1  {'max_depth': 1, 'n_estimators': 3, 'random_st...           0.911475   \n",
       "2  {'max_depth': 1, 'n_estimators': 200, 'random_...           0.901639   \n",
       "3  {'max_depth': 1, 'n_estimators': 200, 'random_...           0.898361   \n",
       "4  {'max_depth': 10, 'n_estimators': 3, 'random_s...           0.903279   \n",
       "5  {'max_depth': 10, 'n_estimators': 3, 'random_s...           0.888525   \n",
       "6  {'max_depth': 10, 'n_estimators': 200, 'random...           0.911475   \n",
       "7  {'max_depth': 10, 'n_estimators': 200, 'random...           0.911475   \n",
       "\n",
       "   split1_test_score  split2_test_score  split3_test_score  split4_test_score  \\\n",
       "0           0.880328           0.896721           0.858785           0.878489   \n",
       "1           0.934426           0.947541           0.926108           0.921182   \n",
       "2           0.932787           0.924590           0.906404           0.911330   \n",
       "3           0.931148           0.926230           0.904762           0.912972   \n",
       "4           0.919672           0.922951           0.909688           0.909688   \n",
       "5           0.913115           0.916393           0.901478           0.911330   \n",
       "6           0.926230           0.944262           0.917898           0.917898   \n",
       "7           0.926230           0.936066           0.919540           0.919540   \n",
       "\n",
       "   mean_test_score  std_test_score  rank_test_score  \n",
       "0         0.877619        0.012186                8  \n",
       "1         0.928147        0.012216                1  \n",
       "2         0.915350        0.011607                4  \n",
       "3         0.914694        0.012427                5  \n",
       "4         0.913056        0.007211                6  \n",
       "5         0.906168        0.010127                7  \n",
       "6         0.923553        0.011365                2  \n",
       "7         0.922570        0.008209                3  "
      ]
     },
     "execution_count": 50,
     "metadata": {},
     "output_type": "execute_result"
    }
   ],
   "source": [
    "roc = list()\n",
    "for i in range(2, 6):\n",
    "    gridsearch_randForest = GridSearchCV(estimator = RandomForestClassifier(), \n",
    "                                         param_grid = {'max_depth': [1, 10], 'n_estimators': [3, 200], \n",
    "                                                       'random_state': [0, 10]}, cv = i).fit(X_train, y_train)\n",
    "    roc.append( roc_auc_score(y_train, gridsearch_randForest.predict_proba(X_train)[:, 1]) )\n",
    "    i = i + 1\n",
    "pd.DataFrame(gridsearch_randForest.cv_results_)"
   ]
  },
  {
   "cell_type": "code",
   "execution_count": 52,
   "id": "30c3fc73",
   "metadata": {
    "pycharm": {
     "name": "#%%\n"
    }
   },
   "outputs": [
    {
     "data": {
      "text/plain": [
       "[(1.0, 6.0), (0.0, 1.5)]"
      ]
     },
     "execution_count": 52,
     "metadata": {},
     "output_type": "execute_result"
    },
    {
     "data": {
      "image/png": "[encoded data removed]",
      "text/plain": [
       "<Figure size 432x288 with 1 Axes>"
      ]
     },
     "metadata": {
      "needs_background": "light"
     },
     "output_type": "display_data"
    }
   ],
   "source": [
    "plt.plot([2, 3, 4, 5], roc, 'bo')\n",
    "plt.title('ROC curve for gridsearch_randForest model, depending on hyperparameters cv')\n",
    "plt.xlabel('Cross Validation')\n",
    "plt.ylabel('ROC')\n",
    "ax.set(xlim = (1, 6), ylim = (0, 1.5))"
   ]
  }
 ],
 "metadata": {
  "kernelspec": {
   "display_name": "Python 3 (ipykernel)",
   "language": "python",
   "name": "python3"
  },
  "language_info": {
   "codemirror_mode": {
    "name": "ipython",
    "version": 3
   },
   "file_extension": ".py",
   "mimetype": "text/x-python",
   "name": "python",
   "nbconvert_exporter": "python",
   "pygments_lexer": "ipython3",
   "version": "3.9.12"
  }
 },
 "nbformat": 4,
 "nbformat_minor": 5
}
